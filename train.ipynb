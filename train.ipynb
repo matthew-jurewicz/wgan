{
 "cells": [
  {
   "cell_type": "code",
   "execution_count": null,
   "metadata": {},
   "outputs": [],
   "source": [
    "%matplotlib notebook\n",
    "from torchvision import datasets, transforms\n",
    "import random\n",
    "import matplotlib.pyplot as plt\n",
    "import torch\n",
    "from tqdm import tqdm"
   ]
  },
  {
   "cell_type": "code",
   "execution_count": null,
   "metadata": {},
   "outputs": [],
   "source": [
    "img_size = 64\n",
    "batch_size = 16"
   ]
  },
  {
   "cell_type": "code",
   "execution_count": null,
   "metadata": {},
   "outputs": [],
   "source": [
    "data = datasets.ImageFolder(\n",
    "    root='./data', \n",
    "    transform=transforms.Compose([\n",
    "        transforms.RandomHorizontalFlip(), \n",
    "        transforms.Resize(size=(img_size,img_size)), \n",
    "        transforms.ToTensor()\n",
    "    ])\n",
    ")\n",
    "\n",
    "rand = random.sample(range(len(data)), k=4)\n",
    "_, ax = plt.subplots(2, 2)\n",
    "for i in range(4):\n",
    "    x, _ = data[rand[i]]\n",
    "    ax[i // 2][i % 2].imshow(x.numpy().transpose(1, 2, 0))\n",
    "\n",
    "data = torch.utils.data.DataLoader(\n",
    "    data, \n",
    "    batch_size, \n",
    "    shuffle=True\n",
    ")"
   ]
  },
  {
   "cell_type": "code",
   "execution_count": null,
   "metadata": {},
   "outputs": [],
   "source": [
    "model = torch.hub.load(\n",
    "    github='facebookresearch/pytorch_GAN_zoo:master', \n",
    "    model='DCGAN', \n",
    "    pretrained=False, \n",
    "    useGPU=torch.cuda.is_available()\n",
    ")"
   ]
  },
  {
   "cell_type": "code",
   "execution_count": null,
   "metadata": {},
   "outputs": [],
   "source": [
    "fig, ax = plt.subplots(1, 1)\n",
    "for i in range(10):\n",
    "    for j, (x, _) in enumerate(tqdm(data)):\n",
    "        loss = model.optimizeParameters(x)\n",
    "\n",
    "    z, _ = model.buildNoiseData(n_samples=1)\n",
    "    ax.imshow(model.test(z)[0]\n",
    "                    .numpy().transpose(1, 2, 0))\n",
    "    fig.canvas.draw()"
   ]
  },
  {
   "cell_type": "code",
   "execution_count": null,
   "metadata": {},
   "outputs": [],
   "source": [
    "model.save('model.pt')"
   ]
  },
  {
   "cell_type": "code",
   "execution_count": null,
   "metadata": {},
   "outputs": [],
   "source": [
    "model.load('model.pt')"
   ]
  },
  {
   "cell_type": "code",
   "execution_count": null,
   "metadata": {},
   "outputs": [],
   "source": [
    "z, _ = model.buildNoiseData(n_samples=1)\n",
    "plt.imshow(model.test(z)[0]\n",
    "                .numpy().transpose(1, 2, 0))"
   ]
  },
  {
   "cell_type": "code",
   "execution_count": null,
   "metadata": {},
   "outputs": [],
   "source": []
  }
 ],
 "metadata": {
  "kernelspec": {
   "display_name": "Python [conda env:wgan] *",
   "language": "python",
   "name": "conda-env-wgan-py"
  },
  "language_info": {
   "codemirror_mode": {
    "name": "ipython",
    "version": 3
   },
   "file_extension": ".py",
   "mimetype": "text/x-python",
   "name": "python",
   "nbconvert_exporter": "python",
   "pygments_lexer": "ipython3",
   "version": "3.7.7"
  }
 },
 "nbformat": 4,
 "nbformat_minor": 4
}
